{
 "cells": [
  {
   "cell_type": "code",
   "execution_count": 1,
   "metadata": {},
   "outputs": [],
   "source": [
    "import numpy as np\n",
    "import matplotlib.pyplot as plt\n",
    "import pandas as pd\n",
    "from sklearn.preprocessing import MinMaxScaler\n",
    "import seaborn as sns\n",
    "import matplotlib   \n",
    "from scipy.spatial.distance import pdist, squareform\n",
    "from io import StringIO\n",
    "\n",
    "matplotlib.rcParams['pdf.fonttype'] = 42\n",
    "\n",
    "strain = 0.30"
   ]
  },
  {
   "cell_type": "code",
   "execution_count": 2,
   "metadata": {},
   "outputs": [],
   "source": [
    "def data_org(file_path):\n",
    "    buffer = StringIO()\n",
    "    current_time = None\n",
    "\n",
    "    with open(file_path, \"r\") as f:\n",
    "        for line in f:\n",
    "            if line.strip() == \"ITEM: TIMESTEP\":\n",
    "                current_time = f.readline().strip()\n",
    "                continue\n",
    "                \n",
    "            parts = line.strip().split()\n",
    "            if len(parts) == 5:\n",
    "                buffer.write(f\"{current_time} {' '.join(parts)}\\n\")\n",
    "\n",
    "    buffer.seek(0)\n",
    "    df = pd.read_csv(buffer, sep=' ', \n",
    "                        names=[\"time\", \"id\", \"type\", \"x\", \"y\", \"z\"])\n",
    "    return df"
   ]
  },
  {
   "cell_type": "code",
   "execution_count": 3,
   "metadata": {},
   "outputs": [],
   "source": [
    "def contact_index(lamins_df, chromatin_df, time):\n",
    "\n",
    "    last_chromatin = chromatin_df.loc[chromatin_df[\"time\"] == time].reset_index(drop=True)\n",
    "    last_lamins = lamins_df.loc[lamins_df[\"time\"] == time].reset_index(drop=True)\n",
    "    \n",
    "    chromatin_coords = last_chromatin[[\"x\", \"y\", \"z\"]].to_numpy()\n",
    "    lamins_coords = last_lamins[[\"x\", \"y\", \"z\"]].to_numpy()\n",
    "\n",
    "    contact_distances = []\n",
    "\n",
    "    for chromatin in chromatin_coords:\n",
    "\n",
    "        distances = np.sqrt(np.sum((chromatin - lamins_coords)**2, axis=1))\n",
    "        contact_distances.append(np.min(distances))\n",
    "    \n",
    "    last_chromatin[\"contact index\"] = contact_distances\n",
    "    \n",
    "    return last_chromatin"
   ]
  },
  {
   "cell_type": "code",
   "execution_count": 4,
   "metadata": {},
   "outputs": [],
   "source": [
    "import warnings\n",
    "\n",
    "warnings.filterwarnings('ignore')\n",
    "\n",
    "def calculate_contacts(lamins_df,chromatin_df, time):\n",
    "\n",
    "    last_chromatin_df = chromatin_df[chromatin_df[\"time\"] == time]\n",
    "\n",
    "    last_chromatin_df = last_chromatin_df.sort_values(by = \"id\")\n",
    "\n",
    "    last_chromatin_df.reset_index(drop = True, inplace = True)\n",
    "\n",
    "    last_lamins_df = lamins_df[lamins_df[\"time\"] == time]\n",
    "\n",
    "    last_lamins_df = last_lamins_df.sort_values(by = \"id\")\n",
    "\n",
    "    last_lamins_df.reset_index(drop = True, inplace = True)\n",
    "\n",
    "    lamin_map = np.array([])\n",
    "    lamin_non_map = np.array([])\n",
    "    \n",
    "    for ind, lam in last_lamins_df.iterrows():\n",
    "        distance = (last_chromatin_df[\"x\"] - lam[\"x\"])**2 + (last_chromatin_df[\"y\"] - lam[\"y\"])**2 + (last_chromatin_df[\"z\"] - lam[\"z\"])**2\n",
    "        distance = distance**0.5\n",
    "        lamin_map = np.append(lamin_map, len(distance[distance <= 2.5]))\n",
    "        lamin_non_map = np.append(lamin_non_map, len(distance[distance > 2.5]))\n",
    "        \n",
    "    last_lamins_df[\"chromatin contacts\"] = lamin_map\n",
    "\n",
    "    last_lamins_df[\"non chromatin contacts\"] = lamin_non_map\n",
    "\n",
    "    return last_lamins_df"
   ]
  },
  {
   "cell_type": "code",
   "execution_count": 5,
   "metadata": {},
   "outputs": [],
   "source": [
    "def plot_contacts(last_lamins_df):\n",
    "\n",
    "    scaler = MinMaxScaler()\n",
    "\n",
    "    last_lamins_df['norm. chromatin contacts'] = scaler.fit_transform(last_lamins_df['chromatin contacts'].values.reshape(-1, 1))\n",
    "    last_lamins_df['norm. non chromatin contacts'] = scaler.fit_transform(last_lamins_df['non chromatin contacts'].values.reshape(-1, 1))\n",
    "\n",
    "    fig, ax = plt.subplots(1, 1, figsize=(10, 10))\n",
    "\n",
    "    sns.kdeplot(data=last_lamins_df, x='norm. chromatin contacts', fill=True, alpha=0.5, label='chromatin contacts', ax=ax)\n",
    "    sns.kdeplot(data=last_lamins_df, x='norm. non chromatin contacts', fill=True, alpha=0.5, label='non chromatin contacts', ax=ax)\n",
    "    ax.set_xlabel('Normalized')\n",
    "    ax.set_ylabel('Density')\n",
    "    ax.set_title('Contacts')\n",
    "    ax.legend(loc='upper right')\n",
    "\n",
    "    plt.show()"
   ]
  },
  {
   "cell_type": "code",
   "execution_count": 6,
   "metadata": {},
   "outputs": [],
   "source": [
    "def ps_segment(chr_ind_last):\n",
    "\n",
    "        het_mask = chr_ind_last['type'].isin([2, 8]).values\n",
    "        euc_mask = chr_ind_last['type'].isin([3, 7]).values\n",
    "\n",
    "        k_step = 4\n",
    "        k_s = np.unique(np.round([k_step * (1.11785**i) for i in range(65)]).astype(int))\n",
    "        max_k = k_s.max()\n",
    "\n",
    "        chr_length = 6002\n",
    "        num_chr = 8\n",
    "\n",
    "        results = {'het': np.zeros_like(k_s, dtype=float), \n",
    "                'euc': np.zeros_like(k_s, dtype=float),\n",
    "                'het_norm_by_count': np.zeros_like(k_s, dtype=float),\n",
    "                'euc_norm_by_count': np.zeros_like(k_s, dtype=float)}\n",
    "        \n",
    "        counts = {'het': np.zeros_like(k_s, dtype=float),\n",
    "                'euc': np.zeros_like(k_s, dtype=float),\n",
    "                'het_norm_by_count': np.zeros_like(k_s, dtype=float),\n",
    "                'euc_norm_by_count': np.zeros_like(k_s, dtype=float)}\n",
    "\n",
    "        for chr_n in range(num_chr):\n",
    "\n",
    "                chr_data = chr_ind_last.iloc[chr_n*chr_length : (chr_n+1)*chr_length]\n",
    "                coords = chr_data[['x', 'y', 'z']].values\n",
    "                types = chr_data['type'].values\n",
    "\n",
    "                dist_matrix = squareform(pdist(coords))\n",
    "\n",
    "                for name, type_mask, target_types in [('het', het_mask, [2, 8]),\n",
    "                                                        ('euc', euc_mask, [3, 7])]:\n",
    "\n",
    "                        target_idx = np.where(type_mask[chr_n*chr_length : (chr_n+1)*chr_length])[0]\n",
    "                        \n",
    "                        for i in target_idx:\n",
    "\n",
    "                                valid_contacts = (dist_matrix[i] <= 2.5) & (np.isin(types, target_types))\n",
    "                                \n",
    "                                cum_contacts = np.cumsum(valid_contacts)\n",
    "                                \n",
    "                                for k_idx, k in enumerate(k_s):\n",
    "                                        \n",
    "                                        if i + k >= chr_length - 4:\n",
    "                                                continue\n",
    "                                        \n",
    "                                        contacts = cum_contacts[i+k] - cum_contacts[i]\n",
    "                                        results[name][k_idx] += contacts/ k\n",
    "                                        counts[name][k_idx] += 1\n",
    "\n",
    "                results['het'] /= np.where(het_mask)[0].shape[0]\n",
    "                results['euc'] /= np.where(euc_mask)[0].shape[0]\n",
    "\n",
    "                results['het_norm_by_count'] = results['het'] / counts['het']\n",
    "                results['euc_norm_by_count'] = results['euc'] / counts['euc']\n",
    "\n",
    "        return results, k_s\n"
   ]
  },
  {
   "cell_type": "code",
   "execution_count": 7,
   "metadata": {},
   "outputs": [],
   "source": [
    "def process_df(df):\n",
    "\n",
    "    is_lamin = df[\"type\"].isin([1, 9, 10])\n",
    "    coords = df[[\"x\", \"y\", \"z\"]].values\n",
    "    \n",
    "    radial = np.linalg.norm(coords, axis=1)\n",
    "    \n",
    "    lamin_df = df[is_lamin].copy()\n",
    "    chromatin_df = df[~is_lamin].copy()\n",
    "    \n",
    "    lamin_df[\"lamin radial_distance\"] = radial[is_lamin]\n",
    "    chromatin_df[\"chromatin radial_distance\"] = radial[~is_lamin]\n",
    "    \n",
    "    return (\n",
    "        lamin_df.sort_values(\"id\", ignore_index=True),\n",
    "        chromatin_df.sort_values(\"id\", ignore_index=True)\n",
    "    )\n",
    "\n",
    "def strain_fc(lamins_df):\n",
    "\n",
    "    max_y_initial = lamins_df.loc[lamins_df['time'] == 0, 'y'].max()\n",
    "    \n",
    "    max_y_per_time = lamins_df.groupby('time', sort=True)['y'].max().reset_index()\n",
    "    \n",
    "    max_y_per_time['strain'] = (max_y_per_time['y'] - max_y_initial) / max_y_initial\n",
    "    \n",
    "    return max_y_per_time[['time', 'strain']]"
   ]
  },
  {
   "cell_type": "code",
   "execution_count": 8,
   "metadata": {},
   "outputs": [],
   "source": [
    "from tqdm import tqdm\n",
    "import os \n",
    "\n",
    "def process_pulling_data(base_path, condition, output_path, strain):\n",
    "\n",
    "    ps_segment_data_last_array_het = np.zeros((63, 111))\n",
    "    ps_segment_data_first_array_het = np.zeros((63, 11))\n",
    "\n",
    "    ps_segment_data_last_array_euc = np.zeros((63, 111))\n",
    "    ps_segment_data_first_array_euc = np.zeros((63, 11))\n",
    "\n",
    "    config = 1\n",
    "\n",
    "    for rep in tqdm(range(1, 11)):\n",
    "        \n",
    "        path = f'{base_path}/r{rep}/dump.pulling'\n",
    "\n",
    "        df = data_org(path)\n",
    "\n",
    "        lamins_df, chromatin_df = process_df(df)\n",
    "\n",
    "        time_strain = strain_fc(lamins_df)\n",
    "\n",
    "        time_strain.sort_values(by = 'time', inplace = True)\n",
    "\n",
    "        closest_time = time_strain[(time_strain['strain'] > strain - 0.01) & (time_strain['strain'] < strain + 0.01)].iloc[0]['time']\n",
    "\n",
    "        closes_time_list = [closest_time - 5000, closest_time - 4000, closest_time - 3000, closest_time - 2000, closest_time - 1000, closest_time, closest_time + 1000, \n",
    "                            closest_time + 2000, closest_time + 3000, closest_time + 4000, closest_time + 5000]\n",
    "\n",
    "        print(strain, closest_time)\n",
    "\n",
    "        chr_ind_0_FC = contact_index(lamins_df, chromatin_df, 0)   \n",
    "\n",
    "        PSFS_FTNC_seg = ps_segment(chr_ind_0_FC)\n",
    "\n",
    "        ps_segment_data_first_array_het[:,rep] = PSFS_FTNC_seg[0]['het']\n",
    "        ps_segment_data_first_array_euc[:,rep] = PSFS_FTNC_seg[0]['euc']\n",
    "        \n",
    "        ps_segment_data_first_array_het[:,0] = PSFS_FTNC_seg[1]\n",
    "        ps_segment_data_first_array_euc[:,0] = PSFS_FTNC_seg[1]\n",
    "\n",
    "        ps_segment_data_last_array_het[:,0] = PSFS_FTNC_seg[1]      \n",
    "        ps_segment_data_last_array_euc[:,0] = PSFS_FTNC_seg[1]\n",
    "        \n",
    "        for ind, time in (enumerate(closes_time_list)):\n",
    "\n",
    "            chr_ind_last_FC = contact_index(lamins_df, chromatin_df, closest_time)   \n",
    "\n",
    "            PSLS_FTNC_seg = ps_segment(chr_ind_last_FC)\n",
    "            \n",
    "            ps_segment_data_last_array_het[:,config] = PSLS_FTNC_seg[0]['het']\n",
    "            ps_segment_data_last_array_euc[:,config] = PSLS_FTNC_seg[0]['euc']\n",
    "\n",
    "            config += 1\n",
    "\n",
    "            print(ind, time)\n",
    "            \n",
    "    pd.DataFrame(ps_segment_data_first_array_het).to_csv(f'{output_path}/ps_{condition}_{rep}_{strain}_het_first.csv', index = False)\n",
    "    pd.DataFrame(ps_segment_data_last_array_het).to_csv(f'{output_path}/ps_{condition}_{rep}_{strain}_het_last.csv', index = False)\n",
    "\n",
    "    pd.DataFrame(ps_segment_data_first_array_euc).to_csv(f'{output_path}/ps_{condition}_{rep}_{strain}_euc_first.csv', index = False)\n",
    "    pd.DataFrame(ps_segment_data_last_array_euc).to_csv(f'{output_path}/ps_{condition}_{rep}_{strain}_euc_last.csv', index = False)\n",
    "\n",
    "    return ps_segment_data_first_array_het, ps_segment_data_last_array_het, ps_segment_data_first_array_euc, ps_segment_data_last_array_euc\n"
   ]
  },
  {
   "cell_type": "code",
   "execution_count": 14,
   "metadata": {},
   "outputs": [],
   "source": [
    "def process_and_plot_ps_data(ps_data_first, ps_data_last, output_path, chromatin_type, name, b_color, color, strain):\n",
    "\n",
    "    columns_last = ['Genomic Distance'] + [f'P(s)_{i}' for i in range(1, 111)]\n",
    "\n",
    "    columns_first = ['Genomic Distance'] + [f'P(s)_{i}' for i in range(1, 11)]\n",
    "\n",
    "    PSFS_FTNC_s = pd.DataFrame(ps_data_first, columns=columns_first)\n",
    "\n",
    "    PSLS_FTNC_s = pd.DataFrame(ps_data_last, columns=columns_last)\n",
    "\n",
    "    \n",
    "    for df in [PSFS_FTNC_s, PSLS_FTNC_s]:\n",
    "\n",
    "        df['mean'] = df.iloc[:, 1:].mean(axis=1)\n",
    "        df['sem'] = df.iloc[:, 1:-1].sem(axis=1)\n",
    "\n",
    "    PSFS_FTNC_melt_s = PSFS_FTNC_s.melt(id_vars=['Genomic Distance', 'mean', 'sem'], var_name='rep', value_name='P(s)')\n",
    "    PSLS_FTNC_melt_s = PSLS_FTNC_s.melt(id_vars=['Genomic Distance', 'mean', 'sem'], var_name='rep', value_name='P(s)')\n",
    "\n",
    "    fig, axes = plt.subplots(1, 1, figsize=(3, 3), dpi=300)\n",
    "\n",
    "    PSFS_FTNC_melt_s_FILT_plot = PSFS_FTNC_melt_s[\n",
    "    (PSFS_FTNC_melt_s['P(s)'] >= 0.00001)]\n",
    "\n",
    "    PSLS_FTNC_melt_s_FILT_plot = PSLS_FTNC_melt_s[\n",
    "    (PSLS_FTNC_melt_s['P(s)'] >= 0.00001)]\n",
    "\n",
    "    sns.lineplot(data=PSFS_FTNC_melt_s_FILT_plot, x='Genomic Distance', y='P(s)', errorbar=\"se\", color=b_color, linewidth=1)\n",
    "    sns.lineplot(data=PSLS_FTNC_melt_s_FILT_plot, x='Genomic Distance', y='P(s)', errorbar=\"se\", linewidth=1, color=color)    \n",
    "\n",
    "    axes.set_xscale('log')\n",
    "    axes.set_yscale('log')\n",
    "    axes.set_xlim((0, 6002))\n",
    "    axes.set_title(f'P(s) vs Genomic Distance, {chromatin_type}')\n",
    "\n",
    "    plt.tight_layout()\n",
    "    plt.savefig(f'{output_path}/PS_Segment_{name}_{chromatin_type}_{strain}_reps.pdf', bbox_inches='tight')\n",
    "    plt.close()\n",
    "\n",
    "    return PSFS_FTNC_s, PSLS_FTNC_s, PSFS_FTNC_melt_s, PSLS_FTNC_melt_s\n"
   ]
  },
  {
   "cell_type": "code",
   "execution_count": 15,
   "metadata": {},
   "outputs": [],
   "source": [
    "def filter_and_plot_zoomed_ps_data(PSFS_FTNC_melt_s, PSLS_FTNC_melt_s, base_path, output_path, chromatin_type, condition, b_color, color, strain):\n",
    "\n",
    "    PSFS_FTNC_melt_s_filtered = PSFS_FTNC_melt_s[\n",
    "        (PSFS_FTNC_melt_s['Genomic Distance'] >= 50) & \n",
    "        (PSFS_FTNC_melt_s['Genomic Distance'] <= 1400) &\n",
    "        (PSFS_FTNC_melt_s['P(s)'] >= 0.0005) &\n",
    "        (PSFS_FTNC_melt_s['P(s)'] <= 0.015)\n",
    "    ]\n",
    "\n",
    "    PSLS_FTNC_melt_s_filtered = PSLS_FTNC_melt_s[\n",
    "        (PSLS_FTNC_melt_s['Genomic Distance'] >= 50) & \n",
    "        (PSLS_FTNC_melt_s['Genomic Distance'] <= 1400) &\n",
    "        (PSLS_FTNC_melt_s['P(s)'] >= 0.0005) &\n",
    "        (PSLS_FTNC_melt_s['P(s)'] <= 0.015)\n",
    "    ]\n",
    "\n",
    "    fig, axes = plt.subplots(1, 1, figsize=(4, 4), dpi=300)\n",
    "\n",
    "    sns.lineplot(data=PSFS_FTNC_melt_s_filtered, x='Genomic Distance', y='P(s)', \n",
    "                 errorbar=\"se\", color=b_color, linewidth=1, err_kws={'alpha': 0.5, 'linewidth': 0})\n",
    "    sns.lineplot(data=PSLS_FTNC_melt_s_filtered, x='Genomic Distance', y='P(s)', \n",
    "                 errorbar=\"se\", linewidth=1, color=color, err_kws={'alpha': 0.5, 'linewidth': 0})    \n",
    "\n",
    "    axes.set_xscale('log')\n",
    "    axes.set_yscale('log')\n",
    "    axes.set_xlim((100, 1000))\n",
    "    axes.set_ylim((0.001, 0.006))\n",
    "    axes.set_xlabel('')\n",
    "    axes.set_ylabel('')\n",
    "    axes.set_title(f'Zoomed P(s) vs Genomic Distance, {chromatin_type}')\n",
    "\n",
    "    plt.tight_layout()\n",
    "    plt.savefig(f'{output_path}/PS_Segment_{condition}_{chromatin_type}_{strain}_zoom_reps.pdf', bbox_inches='tight')\n",
    "    plt.close()\n"
   ]
  },
  {
   "cell_type": "code",
   "execution_count": 24,
   "metadata": {},
   "outputs": [
    {
     "name": "stderr",
     "output_type": "stream",
     "text": [
      "  0%|          | 0/10 [00:00<?, ?it/s]"
     ]
    },
    {
     "name": "stdout",
     "output_type": "stream",
     "text": [
      "0.4 119000.0\n",
      "0 114000.0\n",
      "1 115000.0\n",
      "2 116000.0\n",
      "3 117000.0\n",
      "4 118000.0\n",
      "5 119000.0\n",
      "6 120000.0\n",
      "7 121000.0\n",
      "8 122000.0\n",
      "9 123000.0\n"
     ]
    },
    {
     "name": "stderr",
     "output_type": "stream",
     "text": [
      " 10%|█         | 1/10 [00:57<08:37, 57.47s/it]"
     ]
    },
    {
     "name": "stdout",
     "output_type": "stream",
     "text": [
      "10 124000.0\n",
      "0.4 112000.0\n",
      "0 107000.0\n",
      "1 108000.0\n",
      "2 109000.0\n",
      "3 110000.0\n",
      "4 111000.0\n",
      "5 112000.0\n",
      "6 113000.0\n",
      "7 114000.0\n",
      "8 115000.0\n",
      "9 116000.0\n"
     ]
    },
    {
     "name": "stderr",
     "output_type": "stream",
     "text": [
      " 20%|██        | 2/10 [01:56<07:45, 58.16s/it]"
     ]
    },
    {
     "name": "stdout",
     "output_type": "stream",
     "text": [
      "10 117000.0\n",
      "0.4 135000.0\n",
      "0 130000.0\n",
      "1 131000.0\n",
      "2 132000.0\n",
      "3 133000.0\n",
      "4 134000.0\n",
      "5 135000.0\n",
      "6 136000.0\n",
      "7 137000.0\n",
      "8 138000.0\n",
      "9 139000.0\n"
     ]
    },
    {
     "name": "stderr",
     "output_type": "stream",
     "text": [
      " 30%|███       | 3/10 [02:54<06:49, 58.44s/it]"
     ]
    },
    {
     "name": "stdout",
     "output_type": "stream",
     "text": [
      "10 140000.0\n",
      "0.4 130000.0\n",
      "0 125000.0\n",
      "1 126000.0\n",
      "2 127000.0\n",
      "3 128000.0\n",
      "4 129000.0\n",
      "5 130000.0\n",
      "6 131000.0\n",
      "7 132000.0\n",
      "8 133000.0\n",
      "9 134000.0\n"
     ]
    },
    {
     "name": "stderr",
     "output_type": "stream",
     "text": [
      " 40%|████      | 4/10 [03:52<05:49, 58.24s/it]"
     ]
    },
    {
     "name": "stdout",
     "output_type": "stream",
     "text": [
      "10 135000.0\n",
      "0.4 117000.0\n",
      "0 112000.0\n",
      "1 113000.0\n",
      "2 114000.0\n",
      "3 115000.0\n",
      "4 116000.0\n",
      "5 117000.0\n",
      "6 118000.0\n",
      "7 119000.0\n",
      "8 120000.0\n",
      "9 121000.0\n"
     ]
    },
    {
     "name": "stderr",
     "output_type": "stream",
     "text": [
      " 50%|█████     | 5/10 [04:56<05:00, 60.06s/it]"
     ]
    },
    {
     "name": "stdout",
     "output_type": "stream",
     "text": [
      "10 122000.0\n",
      "0.4 93000.0\n",
      "0 88000.0\n",
      "1 89000.0\n",
      "2 90000.0\n",
      "3 91000.0\n",
      "4 92000.0\n",
      "5 93000.0\n",
      "6 94000.0\n",
      "7 95000.0\n",
      "8 96000.0\n",
      "9 97000.0\n"
     ]
    },
    {
     "name": "stderr",
     "output_type": "stream",
     "text": [
      " 60%|██████    | 6/10 [05:55<03:58, 59.67s/it]"
     ]
    },
    {
     "name": "stdout",
     "output_type": "stream",
     "text": [
      "10 98000.0\n",
      "0.4 123000.0\n",
      "0 118000.0\n",
      "1 119000.0\n",
      "2 120000.0\n",
      "3 121000.0\n",
      "4 122000.0\n",
      "5 123000.0\n",
      "6 124000.0\n",
      "7 125000.0\n",
      "8 126000.0\n",
      "9 127000.0\n"
     ]
    },
    {
     "name": "stderr",
     "output_type": "stream",
     "text": [
      " 70%|███████   | 7/10 [06:51<02:55, 58.50s/it]"
     ]
    },
    {
     "name": "stdout",
     "output_type": "stream",
     "text": [
      "10 128000.0\n",
      "0.4 102000.0\n",
      "0 97000.0\n",
      "1 98000.0\n",
      "2 99000.0\n",
      "3 100000.0\n",
      "4 101000.0\n",
      "5 102000.0\n",
      "6 103000.0\n",
      "7 104000.0\n",
      "8 105000.0\n",
      "9 106000.0\n"
     ]
    },
    {
     "name": "stderr",
     "output_type": "stream",
     "text": [
      " 80%|████████  | 8/10 [07:48<01:56, 58.02s/it]"
     ]
    },
    {
     "name": "stdout",
     "output_type": "stream",
     "text": [
      "10 107000.0\n",
      "0.4 119000.0\n",
      "0 114000.0\n",
      "1 115000.0\n",
      "2 116000.0\n",
      "3 117000.0\n",
      "4 118000.0\n",
      "5 119000.0\n",
      "6 120000.0\n",
      "7 121000.0\n",
      "8 122000.0\n",
      "9 123000.0\n"
     ]
    },
    {
     "name": "stderr",
     "output_type": "stream",
     "text": [
      " 90%|█████████ | 9/10 [08:52<00:59, 59.91s/it]"
     ]
    },
    {
     "name": "stdout",
     "output_type": "stream",
     "text": [
      "10 124000.0\n",
      "0.4 124000.0\n",
      "0 119000.0\n",
      "1 120000.0\n",
      "2 121000.0\n",
      "3 122000.0\n",
      "4 123000.0\n",
      "5 124000.0\n",
      "6 125000.0\n",
      "7 126000.0\n",
      "8 127000.0\n",
      "9 128000.0\n"
     ]
    },
    {
     "name": "stderr",
     "output_type": "stream",
     "text": [
      "100%|██████████| 10/10 [09:52<00:00, 59.22s/it]"
     ]
    },
    {
     "name": "stdout",
     "output_type": "stream",
     "text": [
      "10 129000.0\n"
     ]
    },
    {
     "name": "stderr",
     "output_type": "stream",
     "text": [
      "\n"
     ]
    }
   ],
   "source": [
    "base_path = '/Users/attar/Desktop/PS/New Folder With Items/FacTether-NoCross'\n",
    "\n",
    "output_path = '/Users/attar/Desktop/PS/New Folder With Items/Results/PS_SC'\n",
    "\n",
    "condition = base_path.split('/')[-1]\n",
    "\n",
    "ps_segment_data_first_array_het, ps_segment_data_last_array_het, ps_segment_data_first_array_euc, ps_segment_data_last_array_euc = process_pulling_data(base_path, condition, output_path, strain)\n"
   ]
  },
  {
   "cell_type": "code",
   "execution_count": 25,
   "metadata": {},
   "outputs": [],
   "source": [
    "PSFS_FTNC_s, PSLS_FTNC_s, PSFS_FTNC_melt_s, PSLS_FTNC_melt_s = process_and_plot_ps_data(ps_segment_data_first_array_het, ps_segment_data_last_array_het, output_path, 'Heterochromatin', condition, 'navy', 'red', strain)\n",
    "filter_and_plot_zoomed_ps_data(PSFS_FTNC_melt_s, PSLS_FTNC_melt_s, base_path, output_path, 'Heterochromatin', condition, 'navy', 'red', strain)\n",
    "\n",
    "PSFS_FTNC_s, PSLS_FTNC_s, PSFS_FTNC_melt_s, PSLS_FTNC_melt_s = process_and_plot_ps_data(ps_segment_data_first_array_euc, ps_segment_data_last_array_euc, output_path, 'Euchromatin', condition, 'navy', 'red', strain)\n",
    "filter_and_plot_zoomed_ps_data(PSFS_FTNC_melt_s, PSLS_FTNC_melt_s, base_path, output_path, 'Euchromatin', condition, 'navy', 'red', strain)"
   ]
  },
  {
   "cell_type": "code",
   "execution_count": 26,
   "metadata": {},
   "outputs": [
    {
     "name": "stderr",
     "output_type": "stream",
     "text": [
      "  0%|          | 0/10 [00:00<?, ?it/s]"
     ]
    },
    {
     "name": "stdout",
     "output_type": "stream",
     "text": [
      "0.4 148000.0\n",
      "0 143000.0\n",
      "1 144000.0\n",
      "2 145000.0\n",
      "3 146000.0\n",
      "4 147000.0\n",
      "5 148000.0\n",
      "6 149000.0\n",
      "7 150000.0\n",
      "8 151000.0\n",
      "9 152000.0\n"
     ]
    },
    {
     "name": "stderr",
     "output_type": "stream",
     "text": [
      " 10%|█         | 1/10 [00:59<08:51, 59.04s/it]"
     ]
    },
    {
     "name": "stdout",
     "output_type": "stream",
     "text": [
      "10 153000.0\n",
      "0.4 126000.0\n",
      "0 121000.0\n",
      "1 122000.0\n",
      "2 123000.0\n",
      "3 124000.0\n",
      "4 125000.0\n",
      "5 126000.0\n",
      "6 127000.0\n",
      "7 128000.0\n",
      "8 129000.0\n",
      "9 130000.0\n"
     ]
    },
    {
     "name": "stderr",
     "output_type": "stream",
     "text": [
      " 20%|██        | 2/10 [02:02<08:11, 61.40s/it]"
     ]
    },
    {
     "name": "stdout",
     "output_type": "stream",
     "text": [
      "10 131000.0\n",
      "0.4 152000.0\n",
      "0 147000.0\n",
      "1 148000.0\n",
      "2 149000.0\n",
      "3 150000.0\n",
      "4 151000.0\n",
      "5 152000.0\n",
      "6 153000.0\n",
      "7 154000.0\n",
      "8 155000.0\n",
      "9 156000.0\n"
     ]
    },
    {
     "name": "stderr",
     "output_type": "stream",
     "text": [
      " 30%|███       | 3/10 [03:10<07:32, 64.58s/it]"
     ]
    },
    {
     "name": "stdout",
     "output_type": "stream",
     "text": [
      "10 157000.0\n",
      "0.4 146000.0\n",
      "0 141000.0\n",
      "1 142000.0\n",
      "2 143000.0\n",
      "3 144000.0\n",
      "4 145000.0\n",
      "5 146000.0\n",
      "6 147000.0\n",
      "7 148000.0\n",
      "8 149000.0\n",
      "9 150000.0\n"
     ]
    },
    {
     "name": "stderr",
     "output_type": "stream",
     "text": [
      " 40%|████      | 4/10 [04:20<06:39, 66.61s/it]"
     ]
    },
    {
     "name": "stdout",
     "output_type": "stream",
     "text": [
      "10 151000.0\n",
      "0.4 132000.0\n",
      "0 127000.0\n",
      "1 128000.0\n",
      "2 129000.0\n",
      "3 130000.0\n",
      "4 131000.0\n",
      "5 132000.0\n",
      "6 133000.0\n",
      "7 134000.0\n",
      "8 135000.0\n",
      "9 136000.0\n"
     ]
    },
    {
     "name": "stderr",
     "output_type": "stream",
     "text": [
      " 50%|█████     | 5/10 [05:20<05:20, 64.20s/it]"
     ]
    },
    {
     "name": "stdout",
     "output_type": "stream",
     "text": [
      "10 137000.0\n",
      "0.4 116000.0\n",
      "0 111000.0\n",
      "1 112000.0\n",
      "2 113000.0\n",
      "3 114000.0\n",
      "4 115000.0\n",
      "5 116000.0\n",
      "6 117000.0\n",
      "7 118000.0\n",
      "8 119000.0\n",
      "9 120000.0\n"
     ]
    },
    {
     "name": "stderr",
     "output_type": "stream",
     "text": [
      " 60%|██████    | 6/10 [06:19<04:10, 62.61s/it]"
     ]
    },
    {
     "name": "stdout",
     "output_type": "stream",
     "text": [
      "10 121000.0\n",
      "0.4 144000.0\n",
      "0 139000.0\n",
      "1 140000.0\n",
      "2 141000.0\n",
      "3 142000.0\n",
      "4 143000.0\n",
      "5 144000.0\n",
      "6 145000.0\n",
      "7 146000.0\n",
      "8 147000.0\n",
      "9 148000.0\n"
     ]
    },
    {
     "name": "stderr",
     "output_type": "stream",
     "text": [
      " 70%|███████   | 7/10 [07:23<03:08, 62.90s/it]"
     ]
    },
    {
     "name": "stdout",
     "output_type": "stream",
     "text": [
      "10 149000.0\n",
      "0.4 127000.0\n",
      "0 122000.0\n",
      "1 123000.0\n",
      "2 124000.0\n",
      "3 125000.0\n",
      "4 126000.0\n",
      "5 127000.0\n",
      "6 128000.0\n",
      "7 129000.0\n",
      "8 130000.0\n",
      "9 131000.0\n"
     ]
    },
    {
     "name": "stderr",
     "output_type": "stream",
     "text": [
      " 80%|████████  | 8/10 [08:20<02:02, 61.24s/it]"
     ]
    },
    {
     "name": "stdout",
     "output_type": "stream",
     "text": [
      "10 132000.0\n",
      "0.4 151000.0\n",
      "0 146000.0\n",
      "1 147000.0\n",
      "2 148000.0\n",
      "3 149000.0\n",
      "4 150000.0\n",
      "5 151000.0\n",
      "6 152000.0\n",
      "7 153000.0\n",
      "8 154000.0\n",
      "9 155000.0\n"
     ]
    },
    {
     "name": "stderr",
     "output_type": "stream",
     "text": [
      " 90%|█████████ | 9/10 [09:27<01:02, 62.82s/it]"
     ]
    },
    {
     "name": "stdout",
     "output_type": "stream",
     "text": [
      "10 156000.0\n",
      "0.4 149000.0\n",
      "0 144000.0\n",
      "1 145000.0\n",
      "2 146000.0\n",
      "3 147000.0\n",
      "4 148000.0\n",
      "5 149000.0\n",
      "6 150000.0\n",
      "7 151000.0\n",
      "8 152000.0\n",
      "9 153000.0\n"
     ]
    },
    {
     "name": "stderr",
     "output_type": "stream",
     "text": [
      "100%|██████████| 10/10 [10:26<00:00, 62.64s/it]"
     ]
    },
    {
     "name": "stdout",
     "output_type": "stream",
     "text": [
      "10 154000.0\n"
     ]
    },
    {
     "name": "stderr",
     "output_type": "stream",
     "text": [
      "\n"
     ]
    }
   ],
   "source": [
    "base_path = '/Users/attar/Desktop/PS/New Folder With Items/DoubleCross'\n",
    "\n",
    "output_path = '/Users/attar/Desktop/PS/New Folder With Items/Results/PS_SC'\n",
    "\n",
    "condition = base_path.split('/')[-1]\n",
    "\n",
    "ps_segment_data_first_array_het, ps_segment_data_last_array_het, ps_segment_data_first_array_euc, ps_segment_data_last_array_euc = process_pulling_data(base_path, condition, output_path, strain)"
   ]
  },
  {
   "cell_type": "code",
   "execution_count": 27,
   "metadata": {},
   "outputs": [],
   "source": [
    "PSFS_FTNC_s, PSLS_FTNC_s, PSFS_FTNC_melt_s, PSLS_FTNC_melt_s = process_and_plot_ps_data(ps_segment_data_first_array_het, ps_segment_data_last_array_het, output_path, 'Heterochromatin', condition, 'navy', 'teal', strain)\n",
    "filter_and_plot_zoomed_ps_data(PSFS_FTNC_melt_s, PSLS_FTNC_melt_s, base_path, output_path, 'Heterochromatin', condition, 'navy', 'teal', strain)\n",
    "PSFS_FTNC_s, PSLS_FTNC_s, PSFS_FTNC_melt_s, PSLS_FTNC_melt_s = process_and_plot_ps_data(ps_segment_data_first_array_euc, ps_segment_data_last_array_euc, output_path, 'Euchromatin', condition, 'navy', 'teal', strain)\n",
    "filter_and_plot_zoomed_ps_data(PSFS_FTNC_melt_s, PSLS_FTNC_melt_s, base_path, output_path, 'Euchromatin', condition, 'navy', 'teal', strain)"
   ]
  },
  {
   "cell_type": "code",
   "execution_count": 28,
   "metadata": {},
   "outputs": [
    {
     "name": "stderr",
     "output_type": "stream",
     "text": [
      "  0%|          | 0/10 [00:00<?, ?it/s]"
     ]
    },
    {
     "name": "stdout",
     "output_type": "stream",
     "text": [
      "0.4 90000.0\n",
      "0 85000.0\n",
      "1 86000.0\n",
      "2 87000.0\n",
      "3 88000.0\n",
      "4 89000.0\n",
      "5 90000.0\n",
      "6 91000.0\n",
      "7 92000.0\n",
      "8 93000.0\n",
      "9 94000.0\n"
     ]
    },
    {
     "name": "stderr",
     "output_type": "stream",
     "text": [
      " 10%|█         | 1/10 [00:59<08:55, 59.47s/it]"
     ]
    },
    {
     "name": "stdout",
     "output_type": "stream",
     "text": [
      "10 95000.0\n",
      "0.4 76000.0\n",
      "0 71000.0\n",
      "1 72000.0\n",
      "2 73000.0\n",
      "3 74000.0\n",
      "4 75000.0\n",
      "5 76000.0\n",
      "6 77000.0\n",
      "7 78000.0\n",
      "8 79000.0\n",
      "9 80000.0\n"
     ]
    },
    {
     "name": "stderr",
     "output_type": "stream",
     "text": [
      " 20%|██        | 2/10 [01:54<07:37, 57.14s/it]"
     ]
    },
    {
     "name": "stdout",
     "output_type": "stream",
     "text": [
      "10 81000.0\n",
      "0.4 103000.0\n",
      "0 98000.0\n",
      "1 99000.0\n",
      "2 100000.0\n",
      "3 101000.0\n",
      "4 102000.0\n",
      "5 103000.0\n",
      "6 104000.0\n",
      "7 105000.0\n",
      "8 106000.0\n",
      "9 107000.0\n"
     ]
    },
    {
     "name": "stderr",
     "output_type": "stream",
     "text": [
      " 30%|███       | 3/10 [02:55<06:51, 58.76s/it]"
     ]
    },
    {
     "name": "stdout",
     "output_type": "stream",
     "text": [
      "10 108000.0\n",
      "0.4 98000.0\n",
      "0 93000.0\n",
      "1 94000.0\n",
      "2 95000.0\n",
      "3 96000.0\n",
      "4 97000.0\n",
      "5 98000.0\n",
      "6 99000.0\n",
      "7 100000.0\n",
      "8 101000.0\n",
      "9 102000.0\n"
     ]
    },
    {
     "name": "stderr",
     "output_type": "stream",
     "text": [
      " 40%|████      | 4/10 [03:53<05:49, 58.25s/it]"
     ]
    },
    {
     "name": "stdout",
     "output_type": "stream",
     "text": [
      "10 103000.0\n",
      "0.4 73000.0\n",
      "0 68000.0\n",
      "1 69000.0\n",
      "2 70000.0\n",
      "3 71000.0\n",
      "4 72000.0\n",
      "5 73000.0\n",
      "6 74000.0\n",
      "7 75000.0\n",
      "8 76000.0\n",
      "9 77000.0\n"
     ]
    },
    {
     "name": "stderr",
     "output_type": "stream",
     "text": [
      " 50%|█████     | 5/10 [04:49<04:48, 57.75s/it]"
     ]
    },
    {
     "name": "stdout",
     "output_type": "stream",
     "text": [
      "10 78000.0\n",
      "0.4 67000.0\n",
      "0 62000.0\n",
      "1 63000.0\n",
      "2 64000.0\n",
      "3 65000.0\n",
      "4 66000.0\n",
      "5 67000.0\n",
      "6 68000.0\n",
      "7 69000.0\n",
      "8 70000.0\n",
      "9 71000.0\n"
     ]
    },
    {
     "name": "stderr",
     "output_type": "stream",
     "text": [
      " 60%|██████    | 6/10 [05:46<03:49, 57.35s/it]"
     ]
    },
    {
     "name": "stdout",
     "output_type": "stream",
     "text": [
      "10 72000.0\n",
      "0.4 94000.0\n",
      "0 89000.0\n",
      "1 90000.0\n",
      "2 91000.0\n",
      "3 92000.0\n",
      "4 93000.0\n",
      "5 94000.0\n",
      "6 95000.0\n",
      "7 96000.0\n",
      "8 97000.0\n",
      "9 98000.0\n"
     ]
    },
    {
     "name": "stderr",
     "output_type": "stream",
     "text": [
      " 70%|███████   | 7/10 [06:41<02:50, 56.72s/it]"
     ]
    },
    {
     "name": "stdout",
     "output_type": "stream",
     "text": [
      "10 99000.0\n",
      "0.4 74000.0\n",
      "0 69000.0\n",
      "1 70000.0\n",
      "2 71000.0\n",
      "3 72000.0\n",
      "4 73000.0\n",
      "5 74000.0\n",
      "6 75000.0\n",
      "7 76000.0\n",
      "8 77000.0\n",
      "9 78000.0\n"
     ]
    },
    {
     "name": "stderr",
     "output_type": "stream",
     "text": [
      " 80%|████████  | 8/10 [07:37<01:52, 56.34s/it]"
     ]
    },
    {
     "name": "stdout",
     "output_type": "stream",
     "text": [
      "10 79000.0\n",
      "0.4 79000.0\n",
      "0 74000.0\n",
      "1 75000.0\n",
      "2 76000.0\n",
      "3 77000.0\n",
      "4 78000.0\n",
      "5 79000.0\n",
      "6 80000.0\n",
      "7 81000.0\n",
      "8 82000.0\n",
      "9 83000.0\n"
     ]
    },
    {
     "name": "stderr",
     "output_type": "stream",
     "text": [
      " 90%|█████████ | 9/10 [08:36<00:57, 57.25s/it]"
     ]
    },
    {
     "name": "stdout",
     "output_type": "stream",
     "text": [
      "10 84000.0\n",
      "0.4 74000.0\n",
      "0 69000.0\n",
      "1 70000.0\n",
      "2 71000.0\n",
      "3 72000.0\n",
      "4 73000.0\n",
      "5 74000.0\n",
      "6 75000.0\n",
      "7 76000.0\n",
      "8 77000.0\n",
      "9 78000.0\n"
     ]
    },
    {
     "name": "stderr",
     "output_type": "stream",
     "text": [
      "100%|██████████| 10/10 [09:34<00:00, 57.48s/it]"
     ]
    },
    {
     "name": "stdout",
     "output_type": "stream",
     "text": [
      "10 79000.0\n"
     ]
    },
    {
     "name": "stderr",
     "output_type": "stream",
     "text": [
      "\n"
     ]
    }
   ],
   "source": [
    "base_path = '/Users/attar/Desktop/PS/New Folder With Items/NoTether-NoCross'\n",
    "\n",
    "output_path = '/Users/attar/Desktop/PS/New Folder With Items/Results/PS_SC'\n",
    "\n",
    "condition = base_path.split('/')[-1]\n",
    "\n",
    "ps_segment_data_first_array_het, ps_segment_data_last_array_het, ps_segment_data_first_array_euc, ps_segment_data_last_array_euc = process_pulling_data(base_path, condition, output_path, strain)\n"
   ]
  },
  {
   "cell_type": "code",
   "execution_count": 29,
   "metadata": {},
   "outputs": [],
   "source": [
    "\n",
    "PSFS_FTNC_s, PSLS_FTNC_s, PSFS_FTNC_melt_s, PSLS_FTNC_melt_s = process_and_plot_ps_data(ps_segment_data_first_array_het, ps_segment_data_last_array_het, output_path, 'Heterochromatin', condition, 'navy', 'gray', strain)\n",
    "filter_and_plot_zoomed_ps_data(PSFS_FTNC_melt_s, PSLS_FTNC_melt_s, base_path, output_path, 'Heterochromatin', condition, 'navy', 'gray', strain)\n",
    "\n",
    "PSFS_FTNC_s, PSLS_FTNC_s, PSFS_FTNC_melt_s, PSLS_FTNC_melt_s = process_and_plot_ps_data(ps_segment_data_first_array_euc, ps_segment_data_last_array_euc, output_path, 'Euchromatin', condition, 'navy', 'gray', strain)\n",
    "filter_and_plot_zoomed_ps_data(PSFS_FTNC_melt_s, PSLS_FTNC_melt_s, base_path, output_path, 'Euchromatin', condition, 'navy', 'gray', strain)\n"
   ]
  }
 ],
 "metadata": {
  "kernelspec": {
   "display_name": "ali",
   "language": "python",
   "name": "python3"
  },
  "language_info": {
   "codemirror_mode": {
    "name": "ipython",
    "version": 3
   },
   "file_extension": ".py",
   "mimetype": "text/x-python",
   "name": "python",
   "nbconvert_exporter": "python",
   "pygments_lexer": "ipython3",
   "version": "3.13.1"
  }
 },
 "nbformat": 4,
 "nbformat_minor": 2
}
