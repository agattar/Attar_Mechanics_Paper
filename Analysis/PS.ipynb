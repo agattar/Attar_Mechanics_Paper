{
 "cells": [
  {
   "cell_type": "code",
   "execution_count": 1,
   "metadata": {},
   "outputs": [],
   "source": [
    "import numpy as np\n",
    "import matplotlib.pyplot as plt\n",
    "import pandas as pd\n",
    "from sklearn.preprocessing import MinMaxScaler\n",
    "import seaborn as sns\n",
    "import matplotlib\n",
    "from io import StringIO\n",
    "from scipy.spatial.distance import pdist, squareform\n",
    "from tqdm import tqdm\n",
    "\n",
    "matplotlib.rcParams['pdf.fonttype'] = 42\n",
    "\n",
    "strain = 0.30"
   ]
  },
  {
   "cell_type": "code",
   "execution_count": 2,
   "metadata": {},
   "outputs": [],
   "source": [
    "def data_org(file_path):\n",
    "\n",
    "    buffer = StringIO()\n",
    "    current_time = None\n",
    "    \n",
    "    with open(file_path, \"r\") as f:\n",
    "        for line in f:\n",
    "            if line.strip() == \"ITEM: TIMESTEP\":\n",
    "                current_time = f.readline().strip()\n",
    "                continue\n",
    "                \n",
    "            parts = line.strip().split()\n",
    "            if len(parts) == 5:\n",
    "                buffer.write(f\"{current_time} {' '.join(parts)}\\n\")\n",
    "    \n",
    "    buffer.seek(0)\n",
    "    df = pd.read_csv(buffer, sep=' ', \n",
    "                     names=[\"time\", \"id\", \"type\", \"x\", \"y\", \"z\"])\n",
    "    return df"
   ]
  },
  {
   "cell_type": "code",
   "execution_count": 3,
   "metadata": {},
   "outputs": [],
   "source": [
    "\n",
    "def contact_index(lamins_df, chromatin_df, time):\n",
    "\n",
    "    last_chromatin = chromatin_df.loc[chromatin_df[\"time\"] == time].reset_index(drop=True)\n",
    "    last_lamins = lamins_df.loc[lamins_df[\"time\"] == time].reset_index(drop=True)\n",
    "    \n",
    "    chromatin_coords = last_chromatin[[\"x\", \"y\", \"z\"]].to_numpy()\n",
    "    lamins_coords = last_lamins[[\"x\", \"y\", \"z\"]].to_numpy()\n",
    "    \n",
    "    contact_distances = []\n",
    "\n",
    "    for chromatin in chromatin_coords:\n",
    "\n",
    "        distances = np.sqrt(np.sum((chromatin - lamins_coords)**2, axis=1))\n",
    "        contact_distances.append(np.min(distances))\n",
    "    \n",
    "    last_chromatin[\"contact index\"] = contact_distances\n",
    "    \n",
    "    return last_chromatin"
   ]
  },
  {
   "cell_type": "code",
   "execution_count": 4,
   "metadata": {},
   "outputs": [],
   "source": [
    "import warnings\n",
    "\n",
    "warnings.filterwarnings('ignore')\n",
    "\n",
    "def calculate_contacts(lamins_df,chromatin_df, time):\n",
    "\n",
    "    last_chromatin_df = chromatin_df[chromatin_df[\"time\"] == time]\n",
    "\n",
    "    last_chromatin_df = last_chromatin_df.sort_values(by = \"id\")\n",
    "\n",
    "    last_chromatin_df.reset_index(drop = True, inplace = True)\n",
    "\n",
    "\n",
    "    last_lamins_df = lamins_df[lamins_df[\"time\"] == time]\n",
    "\n",
    "    last_lamins_df = last_lamins_df.sort_values(by = \"id\")\n",
    "\n",
    "    last_lamins_df.reset_index(drop = True, inplace = True)\n",
    "\n",
    "    lamin_map = np.array([])\n",
    "    lamin_non_map = np.array([])\n",
    "    \n",
    "    for ind, lam in last_lamins_df.iterrows():\n",
    "        distance = (last_chromatin_df[\"x\"] - lam[\"x\"])**2 + (last_chromatin_df[\"y\"] - lam[\"y\"])**2 + (last_chromatin_df[\"z\"] - lam[\"z\"])**2\n",
    "        distance = distance**0.5\n",
    "        lamin_map = np.append(lamin_map, len(distance[distance <= 2.5]))\n",
    "        lamin_non_map = np.append(lamin_non_map, len(distance[distance > 2.5]))\n",
    "        \n",
    "    last_lamins_df[\"chromatin contacts\"] = lamin_map\n",
    "\n",
    "    last_lamins_df[\"non chromatin contacts\"] = lamin_non_map\n",
    "\n",
    "    return last_lamins_df"
   ]
  },
  {
   "cell_type": "code",
   "execution_count": 5,
   "metadata": {},
   "outputs": [],
   "source": [
    "def plot_contacts(last_lamins_df):\n",
    "\n",
    "    scaler = MinMaxScaler()\n",
    "\n",
    "    last_lamins_df['norm. chromatin contacts'] = scaler.fit_transform(last_lamins_df['chromatin contacts'].values.reshape(-1, 1))\n",
    "    last_lamins_df['norm. non chromatin contacts'] = scaler.fit_transform(last_lamins_df['non chromatin contacts'].values.reshape(-1, 1))\n",
    "\n",
    "    fig, ax = plt.subplots(1, 1, figsize=(10, 10))\n",
    "\n",
    "    sns.kdeplot(data=last_lamins_df, x='norm. chromatin contacts', fill=True, alpha=0.5, label='chromatin contacts', ax=ax)\n",
    "    sns.kdeplot(data=last_lamins_df, x='norm. non chromatin contacts', fill=True, alpha=0.5, label='non chromatin contacts', ax=ax)\n",
    "    ax.set_xlabel('Normalized')\n",
    "    ax.set_ylabel('Density')\n",
    "    ax.set_title('Contacts')\n",
    "    ax.legend(loc='upper right')\n",
    "\n",
    "    plt.show()    "
   ]
  },
  {
   "cell_type": "code",
   "execution_count": 23,
   "metadata": {},
   "outputs": [],
   "source": [
    "\n",
    "def ps_func(chr_ind_last):\n",
    "\n",
    "    k_step = 4\n",
    "    k_s = np.unique(np.round([k_step * (1.11785**i) for i in range(65)]).astype(int))\n",
    "    max_k = k_s.max()\n",
    "\n",
    "    chr_length = 6002\n",
    "    num_chr = 8\n",
    "    \n",
    "    genomic_dist = np.zeros(len(k_s), dtype=float)\n",
    "    coords = chr_ind_last[['x', 'y', 'z']].values.reshape(-1, 3)\n",
    "    \n",
    "    for chr_n in range(num_chr):\n",
    "        \n",
    "        start = chr_n * chr_length\n",
    "        end = start + chr_length\n",
    "        chr_coords = coords[start+1000:end]\n",
    "        valid_length = len(chr_coords)\n",
    "        \n",
    "        for i in range(valid_length):\n",
    "\n",
    "            if i  >= chr_length-4:\n",
    "                continue\n",
    "                \n",
    "            diffs = chr_coords[i] - chr_coords[i:]\n",
    "\n",
    "            distances = np.sqrt(np.sum(diffs**2, axis=1))\n",
    "            \n",
    "            for s, k in enumerate(k_s):\n",
    "\n",
    "                if k > len(distances):\n",
    "                    continue\n",
    "                \n",
    "                contacts = np.sum(distances[:int(k)] <= 2.5)\n",
    "                \n",
    "                genomic_dist[s] += contacts / int(k)\n",
    "\n",
    "    genomic_dist /= ((chr_length-1000)*num_chr)\n",
    "    \n",
    "    return np.column_stack((k_s, genomic_dist))\n",
    "    \n"
   ]
  },
  {
   "cell_type": "code",
   "execution_count": 24,
   "metadata": {},
   "outputs": [],
   "source": [
    "def process_df(df):\n",
    "\n",
    "    is_lamin = df[\"type\"].isin([1, 9, 10])\n",
    "    coords = df[[\"x\", \"y\", \"z\"]].values\n",
    "    \n",
    "    radial = np.linalg.norm(coords, axis=1)\n",
    "    \n",
    "    lamin_df = df[is_lamin].copy()\n",
    "    chromatin_df = df[~is_lamin].copy()\n",
    "    \n",
    "    lamin_df[\"lamin radial_distance\"] = radial[is_lamin]\n",
    "    chromatin_df[\"chromatin radial_distance\"] = radial[~is_lamin]\n",
    "    \n",
    "    return (\n",
    "        lamin_df.sort_values(\"id\", ignore_index=True),\n",
    "        chromatin_df.sort_values(\"id\", ignore_index=True)\n",
    "    )"
   ]
  },
  {
   "cell_type": "code",
   "execution_count": 25,
   "metadata": {},
   "outputs": [],
   "source": [
    "def strain_fc(lamins_df):\n",
    "\n",
    "    max_y_initial = lamins_df.loc[lamins_df['time'] == 0, 'y'].max()\n",
    "    \n",
    "    max_y_per_time = lamins_df.groupby('time', sort=True)['y'].max().reset_index()\n",
    "    \n",
    "    max_y_per_time['strain'] = (max_y_per_time['y'] - max_y_initial) / max_y_initial\n",
    "    \n",
    "    return max_y_per_time[['time', 'strain']]"
   ]
  },
  {
   "cell_type": "code",
   "execution_count": 26,
   "metadata": {},
   "outputs": [],
   "source": [
    "from tqdm import tqdm\n",
    "\n",
    "def process_pulling_data(base_path, condition, output_path, strain):\n",
    "\n",
    "    ps_data_last_array = np.zeros((63, 111))\n",
    "\n",
    "    ps_data_first_array = np.zeros((63, 11))\n",
    "\n",
    "    before_contacts = np.zeros((48016, 10))\n",
    "\n",
    "    after_contacts = np.zeros((48016, 110))\n",
    "\n",
    "    config = 1\n",
    "\n",
    "    for rep in tqdm(range(1, 11)):\n",
    "\n",
    "        path = f'{base_path}/r{rep}/dump.pulling'\n",
    "\n",
    "        df = data_org(path)\n",
    "\n",
    "        lamins_df, chromatin_df = process_df(df)\n",
    "\n",
    "        time_strain = strain_fc(lamins_df)\n",
    "\n",
    "        time_strain.sort_values(by = 'time', inplace = True)\n",
    "\n",
    "        closest_time = time_strain[(time_strain['strain'] > strain - 0.01) & (time_strain['strain'] < strain + 0.01)].iloc[0]['time']\n",
    "\n",
    "        closes_time_list = [closest_time - 5000, closest_time - 4000, closest_time - 3000, closest_time - 2000, closest_time - 1000, closest_time, closest_time + 1000, \n",
    "                            closest_time + 2000, closest_time + 3000, closest_time + 4000, closest_time + 5000]\n",
    "\n",
    "        chr_ind_0 = contact_index(lamins_df, chromatin_df, 0)   \n",
    "\n",
    "        before_contacts[:,rep-1] = chr_ind_0['contact index']\n",
    "\n",
    "        ps_data_first = ps_func(chr_ind_0)\n",
    "\n",
    "        for ind, time in (enumerate(closes_time_list)):\n",
    "\n",
    "            chr_ind_last = contact_index(lamins_df, chromatin_df, time)   \n",
    "\n",
    "            ps_data_last = ps_func(chr_ind_last)\n",
    "        \n",
    "            ps_data_last_array[:,config] = ps_data_last[:,1]\n",
    "\n",
    "            after_contacts[:,config-1] = chr_ind_last['contact index']\n",
    "\n",
    "            config += 1\n",
    "\n",
    "            print(config)\n",
    "\n",
    "        ps_data_first_array[:,rep] = ps_data_first[:,1]\n",
    "    \n",
    "    ps_data_last_array[:,0] = ps_data_last[:,0]\n",
    "\n",
    "    ps_data_first_array[:,0] = ps_data_first[:,0]\n",
    "\n",
    "    pd.DataFrame(ps_data_first_array).to_csv(f'{output_path}/ps_first_{condition}.csv', index=False)\n",
    "    pd.DataFrame(ps_data_last_array).to_csv(f'{output_path}/ps_last_{condition}.csv', index=False)\n",
    "\n",
    "    pd.DataFrame(before_contacts).to_csv(f'{output_path}/before_contacts_{condition}.csv', index=False)\n",
    "    pd.DataFrame(after_contacts).to_csv(f'{output_path}/after_contacts_{condition}.csv', index=False)\n",
    "   \n",
    "    return ps_data_first_array, ps_data_last_array"
   ]
  },
  {
   "cell_type": "code",
   "execution_count": 27,
   "metadata": {},
   "outputs": [],
   "source": [
    "def process_and_plot_ps_data(ps_data_first, ps_data_last, output_path,  name, b_color, color):\n",
    "\n",
    "    columns = ['Genomic Distance'] + [f'P(s)_{i}' for i in range(1, 111)]\n",
    "\n",
    "    columns_first = ['Genomic Distance'] + [f'P(s)_{i}' for i in range(1, 11)]\n",
    "    \n",
    "    PSFS_FTNC_s = pd.DataFrame(ps_data_first, columns=columns_first)\n",
    "    PSLS_FTNC_s = pd.DataFrame(ps_data_last, columns=columns)\n",
    "\n",
    "    for df in [PSFS_FTNC_s, PSLS_FTNC_s]:\n",
    "        df['mean'] = df.iloc[:, 1:].mean(axis=1)\n",
    "        n = df.iloc[:, 1:111].shape[1]\n",
    "        df['sd'] = df.iloc[:, 1:].std(axis=1) / np.sqrt(n)\n",
    "\n",
    "    PSFS_FTNC_melt_s = PSFS_FTNC_s.melt(id_vars=['Genomic Distance', 'mean', 'sd'], var_name='rep', value_name='P(s)')\n",
    "    PSLS_FTNC_melt_s = PSLS_FTNC_s.melt(id_vars=['Genomic Distance', 'mean', 'sd'], var_name='rep', value_name='P(s)')\n",
    "\n",
    "    fig, axes = plt.subplots(1, 1, figsize=(3, 3), dpi=300)\n",
    "\n",
    "    sns.lineplot(data=PSFS_FTNC_melt_s, x='Genomic Distance', y='P(s)', errorbar=\"se\", color=b_color, linewidth=0.5)\n",
    "    sns.lineplot(data=PSLS_FTNC_melt_s, x='Genomic Distance', y='P(s)', errorbar=\"se\", linewidth=0.5, color=color)    \n",
    "\n",
    "    axes.set_xscale('log')\n",
    "    axes.set_yscale('log')\n",
    "    axes.set_xlim((0, 6002))\n",
    "    axes.set_title(f'P(s) vs Genomic Distance')\n",
    "\n",
    "    plt.tight_layout()\n",
    "    plt.savefig(f'{output_path}/PS_{name}.pdf', bbox_inches='tight')\n",
    "    plt.close()\n",
    "\n",
    "    return PSFS_FTNC_s, PSLS_FTNC_s, PSFS_FTNC_melt_s, PSLS_FTNC_melt_s\n"
   ]
  },
  {
   "cell_type": "code",
   "execution_count": 28,
   "metadata": {},
   "outputs": [],
   "source": [
    "def filter_and_plot_zoomed_ps_data(PSFS_FTNC_melt_s, PSLS_FTNC_melt_s, base_path,  condition, output_path, b_color, color):\n",
    "\n",
    "    PSFS_FTNC_melt_s_filtered = PSFS_FTNC_melt_s[\n",
    "        (PSFS_FTNC_melt_s['Genomic Distance'] >= 100) & \n",
    "        (PSFS_FTNC_melt_s['Genomic Distance'] <= 2000) &\n",
    "        (PSFS_FTNC_melt_s['P(s)'] <= 0.1)\n",
    "    ]\n",
    "\n",
    "    PSLS_FTNC_melt_s_filtered = PSLS_FTNC_melt_s[\n",
    "        (PSLS_FTNC_melt_s['Genomic Distance'] >= 100) & \n",
    "        (PSLS_FTNC_melt_s['Genomic Distance'] <= 2000) &\n",
    "        \n",
    "        (PSLS_FTNC_melt_s['P(s)'] <= 0.1)\n",
    "    ]\n",
    "\n",
    "    fig, axes = plt.subplots(1, 1, figsize=(4, 4), dpi=300)\n",
    "\n",
    "    sns.lineplot(data=PSFS_FTNC_melt_s_filtered, x='Genomic Distance', y='P(s)', \n",
    "                 errorbar=\"se\", color=b_color, linewidth=0.5)\n",
    "    sns.lineplot(data=PSLS_FTNC_melt_s_filtered, x='Genomic Distance', y='P(s)', \n",
    "                 errorbar=\"se\", linewidth=0.5, color=color)    \n",
    "\n",
    "    axes.set_xscale('log')\n",
    "    axes.set_yscale('log')\n",
    "    axes.set_xlim((100, 1000))\n",
    "    axes.set_ylim((0.01, 0.1))\n",
    "    axes.set_xlabel('')\n",
    "    axes.set_ylabel('')\n",
    "    axes.set_title(f'Zoomed P(s) vs Genomic Distance')\n",
    "\n",
    "    plt.tight_layout()\n",
    "    plt.savefig(f'{output_path}/PS_{condition}_zoom.pdf', bbox_inches='tight')\n",
    "    plt.close()\n"
   ]
  },
  {
   "cell_type": "code",
   "execution_count": 29,
   "metadata": {},
   "outputs": [
    {
     "name": "stderr",
     "output_type": "stream",
     "text": [
      "  0%|          | 0/10 [00:00<?, ?it/s]"
     ]
    },
    {
     "name": "stdout",
     "output_type": "stream",
     "text": [
      "2\n",
      "3\n",
      "4\n",
      "5\n",
      "6\n",
      "7\n",
      "8\n",
      "9\n",
      "10\n",
      "11\n"
     ]
    },
    {
     "name": "stderr",
     "output_type": "stream",
     "text": [
      " 10%|█         | 1/10 [01:11<10:43, 71.53s/it]"
     ]
    },
    {
     "name": "stdout",
     "output_type": "stream",
     "text": [
      "12\n",
      "13\n",
      "14\n",
      "15\n",
      "16\n",
      "17\n",
      "18\n",
      "19\n",
      "20\n",
      "21\n",
      "22\n"
     ]
    },
    {
     "name": "stderr",
     "output_type": "stream",
     "text": [
      " 20%|██        | 2/10 [02:22<09:31, 71.48s/it]"
     ]
    },
    {
     "name": "stdout",
     "output_type": "stream",
     "text": [
      "23\n",
      "24\n",
      "25\n",
      "26\n",
      "27\n",
      "28\n",
      "29\n",
      "30\n",
      "31\n",
      "32\n",
      "33\n"
     ]
    },
    {
     "name": "stderr",
     "output_type": "stream",
     "text": [
      " 30%|███       | 3/10 [03:34<08:20, 71.46s/it]"
     ]
    },
    {
     "name": "stdout",
     "output_type": "stream",
     "text": [
      "34\n",
      "35\n",
      "36\n",
      "37\n",
      "38\n",
      "39\n",
      "40\n",
      "41\n",
      "42\n",
      "43\n",
      "44\n"
     ]
    },
    {
     "name": "stderr",
     "output_type": "stream",
     "text": [
      " 40%|████      | 4/10 [04:47<07:11, 71.95s/it]"
     ]
    },
    {
     "name": "stdout",
     "output_type": "stream",
     "text": [
      "45\n",
      "46\n",
      "47\n",
      "48\n",
      "49\n",
      "50\n",
      "51\n",
      "52\n",
      "53\n",
      "54\n",
      "55\n"
     ]
    },
    {
     "name": "stderr",
     "output_type": "stream",
     "text": [
      " 50%|█████     | 5/10 [05:59<06:00, 72.17s/it]"
     ]
    },
    {
     "name": "stdout",
     "output_type": "stream",
     "text": [
      "56\n",
      "57\n",
      "58\n",
      "59\n",
      "60\n",
      "61\n",
      "62\n",
      "63\n",
      "64\n",
      "65\n",
      "66\n"
     ]
    },
    {
     "name": "stderr",
     "output_type": "stream",
     "text": [
      " 60%|██████    | 6/10 [07:10<04:46, 71.75s/it]"
     ]
    },
    {
     "name": "stdout",
     "output_type": "stream",
     "text": [
      "67\n",
      "68\n",
      "69\n",
      "70\n",
      "71\n",
      "72\n",
      "73\n",
      "74\n",
      "75\n",
      "76\n",
      "77\n"
     ]
    },
    {
     "name": "stderr",
     "output_type": "stream",
     "text": [
      " 70%|███████   | 7/10 [08:21<03:34, 71.47s/it]"
     ]
    },
    {
     "name": "stdout",
     "output_type": "stream",
     "text": [
      "78\n",
      "79\n",
      "80\n",
      "81\n",
      "82\n",
      "83\n",
      "84\n",
      "85\n",
      "86\n",
      "87\n",
      "88\n"
     ]
    },
    {
     "name": "stderr",
     "output_type": "stream",
     "text": [
      " 80%|████████  | 8/10 [09:32<02:22, 71.25s/it]"
     ]
    },
    {
     "name": "stdout",
     "output_type": "stream",
     "text": [
      "89\n",
      "90\n",
      "91\n",
      "92\n",
      "93\n",
      "94\n",
      "95\n",
      "96\n",
      "97\n",
      "98\n",
      "99\n"
     ]
    },
    {
     "name": "stderr",
     "output_type": "stream",
     "text": [
      " 90%|█████████ | 9/10 [10:43<01:11, 71.15s/it]"
     ]
    },
    {
     "name": "stdout",
     "output_type": "stream",
     "text": [
      "100\n",
      "101\n",
      "102\n",
      "103\n",
      "104\n",
      "105\n",
      "106\n",
      "107\n",
      "108\n",
      "109\n",
      "110\n"
     ]
    },
    {
     "name": "stderr",
     "output_type": "stream",
     "text": [
      "100%|██████████| 10/10 [11:54<00:00, 71.41s/it]"
     ]
    },
    {
     "name": "stdout",
     "output_type": "stream",
     "text": [
      "111\n"
     ]
    },
    {
     "name": "stderr",
     "output_type": "stream",
     "text": [
      "\n"
     ]
    }
   ],
   "source": [
    "base_path = '/Users/attar/Desktop/PS/New Folder With Items/FacTether-NoCross'\n",
    "\n",
    "output_path = '/Users/attar/Desktop/PS/New Folder With Items/Results'\n",
    "\n",
    "condition = base_path.split('/')[-1]\n",
    "\n",
    "color = '#FF0000'\n",
    "\n",
    "b_color = '#0B3D91'\n",
    "\n",
    "ps_data_first_array, ps_data_last_array = process_pulling_data(base_path, condition, output_path, strain)\n",
    "\n",
    "PSFS_FTNC_s_het, PSLS_FTNC_s_het,  PSFS_FTNC_melt_s_het, PSLS_FTNC_melt_s_het = process_and_plot_ps_data(ps_data_first_array, ps_data_last_array, output_path, condition, b_color, color)\n",
    "\n",
    "filter_and_plot_zoomed_ps_data(PSFS_FTNC_melt_s_het, PSLS_FTNC_melt_s_het, base_path, condition, output_path,  b_color, color)"
   ]
  },
  {
   "cell_type": "code",
   "execution_count": 30,
   "metadata": {},
   "outputs": [
    {
     "name": "stderr",
     "output_type": "stream",
     "text": [
      "  0%|          | 0/10 [00:00<?, ?it/s]"
     ]
    },
    {
     "name": "stdout",
     "output_type": "stream",
     "text": [
      "2\n",
      "3\n",
      "4\n",
      "5\n",
      "6\n",
      "7\n",
      "8\n",
      "9\n",
      "10\n",
      "11\n"
     ]
    },
    {
     "name": "stderr",
     "output_type": "stream",
     "text": [
      " 10%|█         | 1/10 [01:10<10:31, 70.18s/it]"
     ]
    },
    {
     "name": "stdout",
     "output_type": "stream",
     "text": [
      "12\n",
      "13\n",
      "14\n",
      "15\n",
      "16\n",
      "17\n",
      "18\n",
      "19\n",
      "20\n",
      "21\n",
      "22\n"
     ]
    },
    {
     "name": "stderr",
     "output_type": "stream",
     "text": [
      " 20%|██        | 2/10 [02:20<09:22, 70.34s/it]"
     ]
    },
    {
     "name": "stdout",
     "output_type": "stream",
     "text": [
      "23\n",
      "24\n",
      "25\n",
      "26\n",
      "27\n",
      "28\n",
      "29\n",
      "30\n",
      "31\n",
      "32\n",
      "33\n"
     ]
    },
    {
     "name": "stderr",
     "output_type": "stream",
     "text": [
      " 30%|███       | 3/10 [03:32<08:16, 70.95s/it]"
     ]
    },
    {
     "name": "stdout",
     "output_type": "stream",
     "text": [
      "34\n",
      "35\n",
      "36\n",
      "37\n",
      "38\n",
      "39\n",
      "40\n",
      "41\n",
      "42\n",
      "43\n",
      "44\n"
     ]
    },
    {
     "name": "stderr",
     "output_type": "stream",
     "text": [
      " 40%|████      | 4/10 [04:42<07:04, 70.77s/it]"
     ]
    },
    {
     "name": "stdout",
     "output_type": "stream",
     "text": [
      "45\n",
      "46\n",
      "47\n",
      "48\n",
      "49\n",
      "50\n",
      "51\n",
      "52\n",
      "53\n",
      "54\n",
      "55\n"
     ]
    },
    {
     "name": "stderr",
     "output_type": "stream",
     "text": [
      " 50%|█████     | 5/10 [05:57<06:00, 72.01s/it]"
     ]
    },
    {
     "name": "stdout",
     "output_type": "stream",
     "text": [
      "56\n",
      "57\n",
      "58\n",
      "59\n",
      "60\n",
      "61\n",
      "62\n",
      "63\n",
      "64\n",
      "65\n",
      "66\n"
     ]
    },
    {
     "name": "stderr",
     "output_type": "stream",
     "text": [
      " 60%|██████    | 6/10 [07:10<04:50, 72.54s/it]"
     ]
    },
    {
     "name": "stdout",
     "output_type": "stream",
     "text": [
      "67\n",
      "68\n",
      "69\n",
      "70\n",
      "71\n",
      "72\n",
      "73\n",
      "74\n",
      "75\n",
      "76\n",
      "77\n"
     ]
    },
    {
     "name": "stderr",
     "output_type": "stream",
     "text": [
      " 70%|███████   | 7/10 [08:20<03:35, 71.81s/it]"
     ]
    },
    {
     "name": "stdout",
     "output_type": "stream",
     "text": [
      "78\n",
      "79\n",
      "80\n",
      "81\n",
      "82\n",
      "83\n",
      "84\n",
      "85\n",
      "86\n",
      "87\n",
      "88\n"
     ]
    },
    {
     "name": "stderr",
     "output_type": "stream",
     "text": [
      " 80%|████████  | 8/10 [09:34<02:24, 72.34s/it]"
     ]
    },
    {
     "name": "stdout",
     "output_type": "stream",
     "text": [
      "89\n",
      "90\n",
      "91\n",
      "92\n",
      "93\n",
      "94\n",
      "95\n",
      "96\n",
      "97\n",
      "98\n",
      "99\n"
     ]
    },
    {
     "name": "stderr",
     "output_type": "stream",
     "text": [
      " 90%|█████████ | 9/10 [10:51<01:13, 73.84s/it]"
     ]
    },
    {
     "name": "stdout",
     "output_type": "stream",
     "text": [
      "100\n",
      "101\n",
      "102\n",
      "103\n",
      "104\n",
      "105\n",
      "106\n",
      "107\n",
      "108\n",
      "109\n",
      "110\n"
     ]
    },
    {
     "name": "stderr",
     "output_type": "stream",
     "text": [
      "100%|██████████| 10/10 [12:07<00:00, 72.73s/it]"
     ]
    },
    {
     "name": "stdout",
     "output_type": "stream",
     "text": [
      "111\n"
     ]
    },
    {
     "name": "stderr",
     "output_type": "stream",
     "text": [
      "\n"
     ]
    }
   ],
   "source": [
    "base_path = '/Users/attar/Desktop/PS/New Folder With Items/NoTether-NoCross'\n",
    "\n",
    "output_path = '/Users/attar/Desktop/PS/New Folder With Items/Results'\n",
    "\n",
    "condition = base_path.split('/')[-1]\n",
    "\n",
    "color = '#A0A0A4'\n",
    "\n",
    "ps_data_first_array, ps_data_last_array = process_pulling_data(base_path, condition, output_path, strain)\n",
    "\n",
    "PSFS_FTNC_s_het, PSLS_FTNC_s_het,  PSFS_FTNC_melt_s_het, PSLS_FTNC_melt_s_het = process_and_plot_ps_data(ps_data_first_array, ps_data_last_array, output_path, condition,  b_color, color)\n",
    "\n",
    "filter_and_plot_zoomed_ps_data(PSFS_FTNC_melt_s_het, PSLS_FTNC_melt_s_het, base_path, condition, output_path,  b_color, color)\n"
   ]
  },
  {
   "cell_type": "code",
   "execution_count": 33,
   "metadata": {},
   "outputs": [
    {
     "data": {
      "text/html": [
       "<div>\n",
       "<style scoped>\n",
       "    .dataframe tbody tr th:only-of-type {\n",
       "        vertical-align: middle;\n",
       "    }\n",
       "\n",
       "    .dataframe tbody tr th {\n",
       "        vertical-align: top;\n",
       "    }\n",
       "\n",
       "    .dataframe thead th {\n",
       "        text-align: right;\n",
       "    }\n",
       "</style>\n",
       "<table border=\"1\" class=\"dataframe\">\n",
       "  <thead>\n",
       "    <tr style=\"text-align: right;\">\n",
       "      <th></th>\n",
       "      <th>Genomic Distance</th>\n",
       "      <th>P(s)_1</th>\n",
       "      <th>P(s)_2</th>\n",
       "      <th>P(s)_3</th>\n",
       "      <th>P(s)_4</th>\n",
       "      <th>P(s)_5</th>\n",
       "      <th>P(s)_6</th>\n",
       "      <th>P(s)_7</th>\n",
       "      <th>P(s)_8</th>\n",
       "      <th>P(s)_9</th>\n",
       "      <th>...</th>\n",
       "      <th>P(s)_103</th>\n",
       "      <th>P(s)_104</th>\n",
       "      <th>P(s)_105</th>\n",
       "      <th>P(s)_106</th>\n",
       "      <th>P(s)_107</th>\n",
       "      <th>P(s)_108</th>\n",
       "      <th>P(s)_109</th>\n",
       "      <th>P(s)_110</th>\n",
       "      <th>mean</th>\n",
       "      <th>sd</th>\n",
       "    </tr>\n",
       "  </thead>\n",
       "  <tbody>\n",
       "    <tr>\n",
       "      <th>0</th>\n",
       "      <td>4.0</td>\n",
       "      <td>0.936906</td>\n",
       "      <td>0.937612</td>\n",
       "      <td>0.937519</td>\n",
       "      <td>0.936500</td>\n",
       "      <td>0.937825</td>\n",
       "      <td>0.937369</td>\n",
       "      <td>0.936857</td>\n",
       "      <td>0.937506</td>\n",
       "      <td>0.937531</td>\n",
       "      <td>...</td>\n",
       "      <td>0.937050</td>\n",
       "      <td>0.936176</td>\n",
       "      <td>0.936925</td>\n",
       "      <td>0.936850</td>\n",
       "      <td>0.936994</td>\n",
       "      <td>0.936663</td>\n",
       "      <td>0.935813</td>\n",
       "      <td>0.936550</td>\n",
       "      <td>0.936875</td>\n",
       "      <td>5.479198e-05</td>\n",
       "    </tr>\n",
       "    <tr>\n",
       "      <th>1</th>\n",
       "      <td>5.0</td>\n",
       "      <td>0.839819</td>\n",
       "      <td>0.840884</td>\n",
       "      <td>0.841089</td>\n",
       "      <td>0.839429</td>\n",
       "      <td>0.841179</td>\n",
       "      <td>0.841758</td>\n",
       "      <td>0.839454</td>\n",
       "      <td>0.840514</td>\n",
       "      <td>0.841558</td>\n",
       "      <td>...</td>\n",
       "      <td>0.841368</td>\n",
       "      <td>0.839454</td>\n",
       "      <td>0.841288</td>\n",
       "      <td>0.840584</td>\n",
       "      <td>0.840274</td>\n",
       "      <td>0.839929</td>\n",
       "      <td>0.839504</td>\n",
       "      <td>0.839564</td>\n",
       "      <td>0.840500</td>\n",
       "      <td>9.009738e-05</td>\n",
       "    </tr>\n",
       "    <tr>\n",
       "      <th>2</th>\n",
       "      <td>6.0</td>\n",
       "      <td>0.751579</td>\n",
       "      <td>0.752649</td>\n",
       "      <td>0.753265</td>\n",
       "      <td>0.751254</td>\n",
       "      <td>0.752457</td>\n",
       "      <td>0.753574</td>\n",
       "      <td>0.750841</td>\n",
       "      <td>0.752507</td>\n",
       "      <td>0.753869</td>\n",
       "      <td>...</td>\n",
       "      <td>0.753669</td>\n",
       "      <td>0.751341</td>\n",
       "      <td>0.753811</td>\n",
       "      <td>0.752799</td>\n",
       "      <td>0.752516</td>\n",
       "      <td>0.751645</td>\n",
       "      <td>0.751883</td>\n",
       "      <td>0.751166</td>\n",
       "      <td>0.752619</td>\n",
       "      <td>1.223897e-04</td>\n",
       "    </tr>\n",
       "    <tr>\n",
       "      <th>3</th>\n",
       "      <td>7.0</td>\n",
       "      <td>0.677793</td>\n",
       "      <td>0.678546</td>\n",
       "      <td>0.679253</td>\n",
       "      <td>0.676972</td>\n",
       "      <td>0.678354</td>\n",
       "      <td>0.679303</td>\n",
       "      <td>0.676951</td>\n",
       "      <td>0.678450</td>\n",
       "      <td>0.679689</td>\n",
       "      <td>...</td>\n",
       "      <td>0.679999</td>\n",
       "      <td>0.677193</td>\n",
       "      <td>0.680278</td>\n",
       "      <td>0.678404</td>\n",
       "      <td>0.678721</td>\n",
       "      <td>0.677483</td>\n",
       "      <td>0.678015</td>\n",
       "      <td>0.676686</td>\n",
       "      <td>0.678586</td>\n",
       "      <td>1.467678e-04</td>\n",
       "    </tr>\n",
       "    <tr>\n",
       "      <th>4</th>\n",
       "      <td>8.0</td>\n",
       "      <td>0.616266</td>\n",
       "      <td>0.617100</td>\n",
       "      <td>0.617903</td>\n",
       "      <td>0.615510</td>\n",
       "      <td>0.616372</td>\n",
       "      <td>0.617659</td>\n",
       "      <td>0.615204</td>\n",
       "      <td>0.617362</td>\n",
       "      <td>0.617965</td>\n",
       "      <td>...</td>\n",
       "      <td>0.618225</td>\n",
       "      <td>0.615354</td>\n",
       "      <td>0.618762</td>\n",
       "      <td>0.616569</td>\n",
       "      <td>0.617044</td>\n",
       "      <td>0.615794</td>\n",
       "      <td>0.616860</td>\n",
       "      <td>0.615060</td>\n",
       "      <td>0.616984</td>\n",
       "      <td>1.593899e-04</td>\n",
       "    </tr>\n",
       "    <tr>\n",
       "      <th>...</th>\n",
       "      <td>...</td>\n",
       "      <td>...</td>\n",
       "      <td>...</td>\n",
       "      <td>...</td>\n",
       "      <td>...</td>\n",
       "      <td>...</td>\n",
       "      <td>...</td>\n",
       "      <td>...</td>\n",
       "      <td>...</td>\n",
       "      <td>...</td>\n",
       "      <td>...</td>\n",
       "      <td>...</td>\n",
       "      <td>...</td>\n",
       "      <td>...</td>\n",
       "      <td>...</td>\n",
       "      <td>...</td>\n",
       "      <td>...</td>\n",
       "      <td>...</td>\n",
       "      <td>...</td>\n",
       "      <td>...</td>\n",
       "      <td>...</td>\n",
       "    </tr>\n",
       "    <tr>\n",
       "      <th>58</th>\n",
       "      <td>3199.0</td>\n",
       "      <td>0.001406</td>\n",
       "      <td>0.001396</td>\n",
       "      <td>0.001394</td>\n",
       "      <td>0.001401</td>\n",
       "      <td>0.001413</td>\n",
       "      <td>0.001428</td>\n",
       "      <td>0.001405</td>\n",
       "      <td>0.001424</td>\n",
       "      <td>0.001417</td>\n",
       "      <td>...</td>\n",
       "      <td>0.001383</td>\n",
       "      <td>0.001372</td>\n",
       "      <td>0.001392</td>\n",
       "      <td>0.001373</td>\n",
       "      <td>0.001368</td>\n",
       "      <td>0.001381</td>\n",
       "      <td>0.001385</td>\n",
       "      <td>0.001392</td>\n",
       "      <td>0.001413</td>\n",
       "      <td>3.779931e-06</td>\n",
       "    </tr>\n",
       "    <tr>\n",
       "      <th>59</th>\n",
       "      <td>3576.0</td>\n",
       "      <td>0.001008</td>\n",
       "      <td>0.001010</td>\n",
       "      <td>0.001009</td>\n",
       "      <td>0.001008</td>\n",
       "      <td>0.001023</td>\n",
       "      <td>0.001033</td>\n",
       "      <td>0.001017</td>\n",
       "      <td>0.001028</td>\n",
       "      <td>0.001027</td>\n",
       "      <td>...</td>\n",
       "      <td>0.000971</td>\n",
       "      <td>0.000969</td>\n",
       "      <td>0.000982</td>\n",
       "      <td>0.000969</td>\n",
       "      <td>0.000962</td>\n",
       "      <td>0.000970</td>\n",
       "      <td>0.000977</td>\n",
       "      <td>0.000980</td>\n",
       "      <td>0.001023</td>\n",
       "      <td>3.395254e-06</td>\n",
       "    </tr>\n",
       "    <tr>\n",
       "      <th>60</th>\n",
       "      <td>3998.0</td>\n",
       "      <td>0.000664</td>\n",
       "      <td>0.000662</td>\n",
       "      <td>0.000664</td>\n",
       "      <td>0.000659</td>\n",
       "      <td>0.000673</td>\n",
       "      <td>0.000676</td>\n",
       "      <td>0.000664</td>\n",
       "      <td>0.000672</td>\n",
       "      <td>0.000665</td>\n",
       "      <td>...</td>\n",
       "      <td>0.000616</td>\n",
       "      <td>0.000618</td>\n",
       "      <td>0.000626</td>\n",
       "      <td>0.000619</td>\n",
       "      <td>0.000616</td>\n",
       "      <td>0.000622</td>\n",
       "      <td>0.000624</td>\n",
       "      <td>0.000630</td>\n",
       "      <td>0.000670</td>\n",
       "      <td>2.488933e-06</td>\n",
       "    </tr>\n",
       "    <tr>\n",
       "      <th>61</th>\n",
       "      <td>4469.0</td>\n",
       "      <td>0.000315</td>\n",
       "      <td>0.000313</td>\n",
       "      <td>0.000318</td>\n",
       "      <td>0.000312</td>\n",
       "      <td>0.000320</td>\n",
       "      <td>0.000325</td>\n",
       "      <td>0.000319</td>\n",
       "      <td>0.000323</td>\n",
       "      <td>0.000317</td>\n",
       "      <td>...</td>\n",
       "      <td>0.000313</td>\n",
       "      <td>0.000316</td>\n",
       "      <td>0.000316</td>\n",
       "      <td>0.000315</td>\n",
       "      <td>0.000310</td>\n",
       "      <td>0.000314</td>\n",
       "      <td>0.000314</td>\n",
       "      <td>0.000319</td>\n",
       "      <td>0.000325</td>\n",
       "      <td>1.839189e-06</td>\n",
       "    </tr>\n",
       "    <tr>\n",
       "      <th>62</th>\n",
       "      <td>4996.0</td>\n",
       "      <td>0.000002</td>\n",
       "      <td>0.000002</td>\n",
       "      <td>0.000002</td>\n",
       "      <td>0.000002</td>\n",
       "      <td>0.000002</td>\n",
       "      <td>0.000003</td>\n",
       "      <td>0.000002</td>\n",
       "      <td>0.000003</td>\n",
       "      <td>0.000002</td>\n",
       "      <td>...</td>\n",
       "      <td>0.000004</td>\n",
       "      <td>0.000004</td>\n",
       "      <td>0.000004</td>\n",
       "      <td>0.000004</td>\n",
       "      <td>0.000004</td>\n",
       "      <td>0.000004</td>\n",
       "      <td>0.000004</td>\n",
       "      <td>0.000004</td>\n",
       "      <td>0.000004</td>\n",
       "      <td>7.716900e-08</td>\n",
       "    </tr>\n",
       "  </tbody>\n",
       "</table>\n",
       "<p>63 rows × 113 columns</p>\n",
       "</div>"
      ],
      "text/plain": [
       "    Genomic Distance    P(s)_1    P(s)_2    P(s)_3    P(s)_4    P(s)_5  \\\n",
       "0                4.0  0.936906  0.937612  0.937519  0.936500  0.937825   \n",
       "1                5.0  0.839819  0.840884  0.841089  0.839429  0.841179   \n",
       "2                6.0  0.751579  0.752649  0.753265  0.751254  0.752457   \n",
       "3                7.0  0.677793  0.678546  0.679253  0.676972  0.678354   \n",
       "4                8.0  0.616266  0.617100  0.617903  0.615510  0.616372   \n",
       "..               ...       ...       ...       ...       ...       ...   \n",
       "58            3199.0  0.001406  0.001396  0.001394  0.001401  0.001413   \n",
       "59            3576.0  0.001008  0.001010  0.001009  0.001008  0.001023   \n",
       "60            3998.0  0.000664  0.000662  0.000664  0.000659  0.000673   \n",
       "61            4469.0  0.000315  0.000313  0.000318  0.000312  0.000320   \n",
       "62            4996.0  0.000002  0.000002  0.000002  0.000002  0.000002   \n",
       "\n",
       "      P(s)_6    P(s)_7    P(s)_8    P(s)_9  ...  P(s)_103  P(s)_104  P(s)_105  \\\n",
       "0   0.937369  0.936857  0.937506  0.937531  ...  0.937050  0.936176  0.936925   \n",
       "1   0.841758  0.839454  0.840514  0.841558  ...  0.841368  0.839454  0.841288   \n",
       "2   0.753574  0.750841  0.752507  0.753869  ...  0.753669  0.751341  0.753811   \n",
       "3   0.679303  0.676951  0.678450  0.679689  ...  0.679999  0.677193  0.680278   \n",
       "4   0.617659  0.615204  0.617362  0.617965  ...  0.618225  0.615354  0.618762   \n",
       "..       ...       ...       ...       ...  ...       ...       ...       ...   \n",
       "58  0.001428  0.001405  0.001424  0.001417  ...  0.001383  0.001372  0.001392   \n",
       "59  0.001033  0.001017  0.001028  0.001027  ...  0.000971  0.000969  0.000982   \n",
       "60  0.000676  0.000664  0.000672  0.000665  ...  0.000616  0.000618  0.000626   \n",
       "61  0.000325  0.000319  0.000323  0.000317  ...  0.000313  0.000316  0.000316   \n",
       "62  0.000003  0.000002  0.000003  0.000002  ...  0.000004  0.000004  0.000004   \n",
       "\n",
       "    P(s)_106  P(s)_107  P(s)_108  P(s)_109  P(s)_110      mean            sd  \n",
       "0   0.936850  0.936994  0.936663  0.935813  0.936550  0.936875  5.479198e-05  \n",
       "1   0.840584  0.840274  0.839929  0.839504  0.839564  0.840500  9.009738e-05  \n",
       "2   0.752799  0.752516  0.751645  0.751883  0.751166  0.752619  1.223897e-04  \n",
       "3   0.678404  0.678721  0.677483  0.678015  0.676686  0.678586  1.467678e-04  \n",
       "4   0.616569  0.617044  0.615794  0.616860  0.615060  0.616984  1.593899e-04  \n",
       "..       ...       ...       ...       ...       ...       ...           ...  \n",
       "58  0.001373  0.001368  0.001381  0.001385  0.001392  0.001413  3.779931e-06  \n",
       "59  0.000969  0.000962  0.000970  0.000977  0.000980  0.001023  3.395254e-06  \n",
       "60  0.000619  0.000616  0.000622  0.000624  0.000630  0.000670  2.488933e-06  \n",
       "61  0.000315  0.000310  0.000314  0.000314  0.000319  0.000325  1.839189e-06  \n",
       "62  0.000004  0.000004  0.000004  0.000004  0.000004  0.000004  7.716900e-08  \n",
       "\n",
       "[63 rows x 113 columns]"
      ]
     },
     "execution_count": 33,
     "metadata": {},
     "output_type": "execute_result"
    }
   ],
   "source": [
    "PSLS_FTNC_s_het"
   ]
  },
  {
   "cell_type": "code",
   "execution_count": 31,
   "metadata": {},
   "outputs": [
    {
     "name": "stderr",
     "output_type": "stream",
     "text": [
      "  0%|          | 0/10 [00:00<?, ?it/s]"
     ]
    },
    {
     "name": "stdout",
     "output_type": "stream",
     "text": [
      "2\n",
      "3\n",
      "4\n",
      "5\n",
      "6\n",
      "7\n",
      "8\n",
      "9\n",
      "10\n",
      "11\n"
     ]
    },
    {
     "name": "stderr",
     "output_type": "stream",
     "text": [
      " 10%|█         | 1/10 [01:10<10:32, 70.23s/it]"
     ]
    },
    {
     "name": "stdout",
     "output_type": "stream",
     "text": [
      "12\n",
      "13\n",
      "14\n",
      "15\n",
      "16\n",
      "17\n",
      "18\n",
      "19\n",
      "20\n",
      "21\n",
      "22\n"
     ]
    },
    {
     "name": "stderr",
     "output_type": "stream",
     "text": [
      " 20%|██        | 2/10 [02:22<09:32, 71.62s/it]"
     ]
    },
    {
     "name": "stdout",
     "output_type": "stream",
     "text": [
      "23\n",
      "24\n",
      "25\n",
      "26\n",
      "27\n",
      "28\n",
      "29\n",
      "30\n",
      "31\n",
      "32\n",
      "33\n"
     ]
    },
    {
     "name": "stderr",
     "output_type": "stream",
     "text": [
      " 30%|███       | 3/10 [03:37<08:32, 73.22s/it]"
     ]
    },
    {
     "name": "stdout",
     "output_type": "stream",
     "text": [
      "34\n",
      "35\n",
      "36\n",
      "37\n",
      "38\n",
      "39\n",
      "40\n",
      "41\n",
      "42\n",
      "43\n",
      "44\n"
     ]
    },
    {
     "name": "stderr",
     "output_type": "stream",
     "text": [
      " 40%|████      | 4/10 [04:50<07:16, 72.77s/it]"
     ]
    },
    {
     "name": "stdout",
     "output_type": "stream",
     "text": [
      "45\n",
      "46\n",
      "47\n",
      "48\n",
      "49\n",
      "50\n",
      "51\n",
      "52\n",
      "53\n",
      "54\n",
      "55\n"
     ]
    },
    {
     "name": "stderr",
     "output_type": "stream",
     "text": [
      " 50%|█████     | 5/10 [06:03<06:05, 73.09s/it]"
     ]
    },
    {
     "name": "stdout",
     "output_type": "stream",
     "text": [
      "56\n",
      "57\n",
      "58\n",
      "59\n",
      "60\n",
      "61\n",
      "62\n",
      "63\n",
      "64\n",
      "65\n",
      "66\n"
     ]
    },
    {
     "name": "stderr",
     "output_type": "stream",
     "text": [
      " 60%|██████    | 6/10 [07:15<04:51, 72.83s/it]"
     ]
    },
    {
     "name": "stdout",
     "output_type": "stream",
     "text": [
      "67\n",
      "68\n",
      "69\n",
      "70\n",
      "71\n",
      "72\n",
      "73\n",
      "74\n",
      "75\n",
      "76\n",
      "77\n"
     ]
    },
    {
     "name": "stderr",
     "output_type": "stream",
     "text": [
      " 70%|███████   | 7/10 [08:29<03:38, 72.91s/it]"
     ]
    },
    {
     "name": "stdout",
     "output_type": "stream",
     "text": [
      "78\n",
      "79\n",
      "80\n",
      "81\n",
      "82\n",
      "83\n",
      "84\n",
      "85\n",
      "86\n",
      "87\n",
      "88\n"
     ]
    },
    {
     "name": "stderr",
     "output_type": "stream",
     "text": [
      " 80%|████████  | 8/10 [09:38<02:23, 71.68s/it]"
     ]
    },
    {
     "name": "stdout",
     "output_type": "stream",
     "text": [
      "89\n",
      "90\n",
      "91\n",
      "92\n",
      "93\n",
      "94\n",
      "95\n",
      "96\n",
      "97\n",
      "98\n",
      "99\n"
     ]
    },
    {
     "name": "stderr",
     "output_type": "stream",
     "text": [
      " 90%|█████████ | 9/10 [10:49<01:11, 71.66s/it]"
     ]
    },
    {
     "name": "stdout",
     "output_type": "stream",
     "text": [
      "100\n",
      "101\n",
      "102\n",
      "103\n",
      "104\n",
      "105\n",
      "106\n",
      "107\n",
      "108\n",
      "109\n",
      "110\n"
     ]
    },
    {
     "name": "stderr",
     "output_type": "stream",
     "text": [
      "100%|██████████| 10/10 [12:00<00:00, 72.04s/it]"
     ]
    },
    {
     "name": "stdout",
     "output_type": "stream",
     "text": [
      "111\n"
     ]
    },
    {
     "name": "stderr",
     "output_type": "stream",
     "text": [
      "\n"
     ]
    }
   ],
   "source": [
    "base_path = '/Users/attar/Desktop/PS/New Folder With Items/DoubleCross'\n",
    "\n",
    "output_path = '/Users/attar/Desktop/PS/New Folder With Items/Results'\n",
    "\n",
    "condition = base_path.split('/')[-1]\n",
    "\n",
    "b_color = '#0B3D91'\n",
    "\n",
    "color = '#077E97'\n",
    "\n",
    "ps_data_first_array, ps_data_last_array = process_pulling_data(base_path, condition, output_path, strain)\n",
    "\n",
    "PSFS_FTNC_s_het, PSLS_FTNC_s_het,  PSFS_FTNC_melt_s_het, PSLS_FTNC_melt_s_het = process_and_plot_ps_data(ps_data_first_array, ps_data_last_array, output_path, condition,  b_color, color)\n",
    "\n",
    "filter_and_plot_zoomed_ps_data(PSFS_FTNC_melt_s_het, PSLS_FTNC_melt_s_het, base_path, condition, output_path,  b_color, color)\n"
   ]
  },
  {
   "cell_type": "code",
   "execution_count": 10,
   "metadata": {},
   "outputs": [
    {
     "name": "stderr",
     "output_type": "stream",
     "text": [
      "100%|██████████| 10/10 [14:20<00:00, 86.09s/it]\n"
     ]
    }
   ],
   "source": [
    "base_path = '/Users/attar/Desktop/PS/New Folder With Items/Tether-AfterMut-0.20'\n",
    "\n",
    "output_path = '/Users/attar/Desktop/PS/New Folder With Items/Results'\n",
    "\n",
    "condition = base_path.split('/')[-1]\n",
    "\n",
    "ps_data_first_array, ps_data_last_array = process_pulling_data(base_path, condition, output_path, strain)\n",
    "\n",
    "b_color = '#0B3D91'\n",
    "\n",
    "color = '#077E97'\n",
    "\n",
    "PSFS_FTNC_s_het, PSLS_FTNC_s_het,  PSFS_FTNC_melt_s_het, PSLS_FTNC_melt_s_het = process_and_plot_ps_data(ps_data_first_array, ps_data_last_array, output_path, condition, b_color, color)\n",
    "\n",
    "filter_and_plot_zoomed_ps_data(PSFS_FTNC_melt_s_het, PSLS_FTNC_melt_s_het, base_path, condition, output_path, b_color, color)\n"
   ]
  },
  {
   "cell_type": "code",
   "execution_count": 11,
   "metadata": {},
   "outputs": [
    {
     "name": "stderr",
     "output_type": "stream",
     "text": [
      "100%|██████████| 10/10 [14:20<00:00, 86.07s/it]\n"
     ]
    }
   ],
   "source": [
    "base_path = '/Users/attar/Desktop/PS/New Folder With Items/Tether-AfterMut-0.60'\n",
    "\n",
    "output_path = '/Users/attar/Desktop/PS/New Folder With Items/Results'\n",
    "\n",
    "condition = base_path.split('/')[-1]\n",
    "\n",
    "ps_data_first_array, ps_data_last_array = process_pulling_data(base_path, condition, output_path, strain)\n",
    "\n",
    "b_color = '#0B3D91'\n",
    "\n",
    "color = '#077E97'\n",
    "\n",
    "PSFS_FTNC_s_het, PSLS_FTNC_s_het,  PSFS_FTNC_melt_s_het, PSLS_FTNC_melt_s_het = process_and_plot_ps_data(ps_data_first_array, ps_data_last_array, output_path, condition, b_color, color)\n",
    "\n",
    "filter_and_plot_zoomed_ps_data(PSFS_FTNC_melt_s_het, PSLS_FTNC_melt_s_het, base_path, condition, output_path, b_color, color)\n"
   ]
  },
  {
   "cell_type": "code",
   "execution_count": null,
   "metadata": {},
   "outputs": [],
   "source": []
  }
 ],
 "metadata": {
  "kernelspec": {
   "display_name": "ali",
   "language": "python",
   "name": "python3"
  },
  "language_info": {
   "codemirror_mode": {
    "name": "ipython",
    "version": 3
   },
   "file_extension": ".py",
   "mimetype": "text/x-python",
   "name": "python",
   "nbconvert_exporter": "python",
   "pygments_lexer": "ipython3",
   "version": "3.13.1"
  }
 },
 "nbformat": 4,
 "nbformat_minor": 2
}
